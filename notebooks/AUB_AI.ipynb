{
  "cells": [
    {
      "cell_type": "markdown",
      "source": [
        "# Neural Networks Hands-on\n",
        "\n"
      ],
      "metadata": {
        "id": "oq34Xn9IZf9D"
      }
    },
    {
      "cell_type": "markdown",
      "source": [
        "We load the tensorflow library, that allows us to train neural networks.\n",
        "\n",
        "Further we load the numpy library, the pickle library to load and save data and functions from the matplotlib library to plot certain aspects of neural networks."
      ],
      "metadata": {
        "id": "WNbS4jXVZqNN"
      }
    },
    {
      "cell_type": "code",
      "execution_count": null,
      "metadata": {
        "id": "dvQtmgzyd-Wc"
      },
      "outputs": [],
      "source": [
        "import tensorflow as tf\n",
        "import numpy as np\n",
        "import pickle\n",
        "from matplotlib import pyplot as plt\n",
        "from matplotlib.figure import Figure"
      ]
    },
    {
      "cell_type": "markdown",
      "metadata": {
        "id": "zT7o_mT7eMQA"
      },
      "source": [
        "Here we have imported Tensorflow and the tensorflow datasets which includes the MINST dataset."
      ]
    },
    {
      "cell_type": "code",
      "execution_count": null,
      "metadata": {
        "colab": {
          "base_uri": "https://localhost:8080/"
        },
        "id": "OCbMVZxleG5g",
        "outputId": "cb4ea3bf-f8e1-4482-95c7-9f80ae7324d1"
      },
      "outputs": [
        {
          "name": "stdout",
          "output_type": "stream",
          "text": [
            "Downloading data from https://storage.googleapis.com/tensorflow/tf-keras-datasets/mnist.npz\n",
            "11490434/11490434 [==============================] - 0s 0us/step\n"
          ]
        }
      ],
      "source": [
        "mnist = tf.keras.datasets.mnist\n",
        "new_size = (14,14)\n",
        "(x_train, y_train), (x_test, y_test) = mnist.load_data()\n",
        "\n",
        "x_train = tf.reshape(x_train, (60000,28,28,1))\n",
        "x_test = tf.reshape(x_test, (10000,28,28,1))\n",
        "x_train = tf.image.resize(x_train,new_size).numpy()\n",
        "x_test = tf.image.resize(x_test,new_size).numpy()\n",
        "x_train, x_test = x_train / 255.0, x_test / 255.0\n"
      ]
    },
    {
      "cell_type": "markdown",
      "metadata": {
        "id": "L9Pg4QT5eo65"
      },
      "source": [
        "We imported the MINST data set, automatically splitting it into test and training set and further shuffing the data randomly."
      ]
    },
    {
      "cell_type": "markdown",
      "source": [
        "In oder to build our neural network we need to create its architecture.\n",
        "We load different layer libraries as well as optimizers."
      ],
      "metadata": {
        "id": "nJMKeIogaLZu"
      }
    },
    {
      "cell_type": "code",
      "execution_count": null,
      "metadata": {
        "id": "erM77Clgel6C"
      },
      "outputs": [],
      "source": [
        "from tensorflow.keras.layers import Input, Dense, Flatten, Reshape\n",
        "from tensorflow.keras.layers import Reshape, Dropout, Conv2D\n",
        "from tensorflow.keras.layers import Concatenate, MaxPooling2D\n",
        "from tensorflow.keras.models import Model\n",
        "from tensorflow.keras.optimizers import Adam"
      ]
    },
    {
      "cell_type": "code",
      "execution_count": null,
      "metadata": {
        "id": "_HJbOWa0e1U1"
      },
      "outputs": [],
      "source": [
        "width = 14\n",
        "height = 14"
      ]
    },
    {
      "cell_type": "markdown",
      "source": [
        "We discribe first the neural network architecture, from input to output\n",
        "\n",
        "We further tell tensorflow about the loss function to use and the numerical algorithm ADAM, a special version of the gradient descent to opmtimize our network in adjusting its weights.\n",
        "\n",
        "model_a and model_b are some helpers to investigate the interieur of our network."
      ],
      "metadata": {
        "id": "hJFVOqRQapfy"
      }
    },
    {
      "cell_type": "code",
      "execution_count": null,
      "metadata": {
        "id": "_TaVoTUHnOwN"
      },
      "outputs": [],
      "source": [
        "shape = (height,width,1)\n",
        "input_img = Input(shape=shape)\n",
        "encoded = Flatten()(input_img)\n",
        "encoded_a = Dense(144, activation='relu')(encoded)\n",
        "encoded = Dropout(0.1)(encoded_a)\n",
        "encoded_b = Dense(64, activation='relu')(encoded)\n",
        "encoded = Dropout(0.1)(encoded_b)\n",
        "output = Dense(10)(encoded)\n",
        "\n",
        "model = Model(input_img, output)\n",
        "\n",
        "model_a = Model(input_img,encoded_a)\n",
        "model_b = Model(input_img,encoded_b)\n",
        "\n",
        "loss_fn = tf.keras.losses.SparseCategoricalCrossentropy(from_logits=True)\n",
        "model.compile(optimizer='adam',\n",
        "              loss=loss_fn,\n",
        "              metrics=['accuracy'])\n"
      ]
    },
    {
      "cell_type": "markdown",
      "source": [
        "We train the model with 15 epochs ( we show the model our training data 15 times )"
      ],
      "metadata": {
        "id": "AO5ZPPW0bZCs"
      }
    },
    {
      "cell_type": "code",
      "execution_count": null,
      "metadata": {
        "colab": {
          "base_uri": "https://localhost:8080/"
        },
        "id": "Rkb-LfkYp9P6",
        "outputId": "7b2cd443-b1d7-4ec1-a5c1-29321c566dcb"
      },
      "outputs": [
        {
          "name": "stdout",
          "output_type": "stream",
          "text": [
            "Epoch 1/15\n",
            "1875/1875 [==============================] - 3s 1ms/step - loss: 0.3359 - accuracy: 0.9021\n",
            "Epoch 2/15\n",
            "1875/1875 [==============================] - 2s 1ms/step - loss: 0.1460 - accuracy: 0.9559\n",
            "Epoch 3/15\n",
            "1875/1875 [==============================] - 2s 1ms/step - loss: 0.1108 - accuracy: 0.9659\n",
            "Epoch 4/15\n",
            "1875/1875 [==============================] - 3s 2ms/step - loss: 0.0914 - accuracy: 0.9723\n",
            "Epoch 5/15\n",
            "1875/1875 [==============================] - 2s 1ms/step - loss: 0.0785 - accuracy: 0.9753\n",
            "Epoch 6/15\n",
            "1875/1875 [==============================] - 3s 1ms/step - loss: 0.0690 - accuracy: 0.9778\n",
            "Epoch 7/15\n",
            "1875/1875 [==============================] - 2s 1ms/step - loss: 0.0627 - accuracy: 0.9799\n",
            "Epoch 8/15\n",
            "1875/1875 [==============================] - 3s 1ms/step - loss: 0.0559 - accuracy: 0.9823\n",
            "Epoch 9/15\n",
            "1875/1875 [==============================] - 3s 2ms/step - loss: 0.0512 - accuracy: 0.9833\n",
            "Epoch 10/15\n",
            "1875/1875 [==============================] - 2s 1ms/step - loss: 0.0500 - accuracy: 0.9837\n",
            "Epoch 11/15\n",
            "1875/1875 [==============================] - 2s 1ms/step - loss: 0.0460 - accuracy: 0.9846\n",
            "Epoch 12/15\n",
            "1875/1875 [==============================] - 3s 1ms/step - loss: 0.0422 - accuracy: 0.9862\n",
            "Epoch 13/15\n",
            "1875/1875 [==============================] - 3s 2ms/step - loss: 0.0406 - accuracy: 0.9867\n",
            "Epoch 14/15\n",
            "1875/1875 [==============================] - 2s 1ms/step - loss: 0.0369 - accuracy: 0.9878\n",
            "Epoch 15/15\n",
            "1875/1875 [==============================] - 2s 1ms/step - loss: 0.0338 - accuracy: 0.9887\n"
          ]
        },
        {
          "data": {
            "text/plain": [
              "<keras.src.callbacks.History at 0x79cec351ec80>"
            ]
          },
          "execution_count": 6,
          "metadata": {},
          "output_type": "execute_result"
        }
      ],
      "source": [
        "model.fit(x_train, y_train, epochs=15)\n"
      ]
    },
    {
      "cell_type": "markdown",
      "source": [
        "We define a function that allows us with together with the helper models \"model_a and model_b\" as well as \"model\" to plot the different layers of the model."
      ],
      "metadata": {
        "id": "jkwDSxn8bteK"
      }
    },
    {
      "cell_type": "code",
      "execution_count": null,
      "metadata": {
        "id": "bp2AxkMV3BNI"
      },
      "outputs": [],
      "source": [
        "def plot_model(data):\n",
        "  f, axarr = plt.subplots(4)\n",
        "  axarr[0].imshow(data)\n",
        "  axarr[1].imshow(model_a(data.reshape(1,14,14)).numpy().reshape(12,12))\n",
        "  axarr[2].imshow(model_b(data.reshape(1,14,14)).numpy().reshape(8,8))\n",
        "  axarr[3].imshow(model(data.reshape(1,14,14)).numpy())\n"
      ]
    },
    {
      "cell_type": "markdown",
      "source": [
        "We further define some functions to save the state of the different layers, so that we can external programs access this data."
      ],
      "metadata": {
        "id": "bmEdHOlacOtZ"
      }
    },
    {
      "cell_type": "code",
      "execution_count": null,
      "metadata": {
        "id": "KPlurXl96msJ"
      },
      "outputs": [],
      "source": [
        "def renormalize(a):\n",
        "  max_a = np.max(a)\n",
        "  min_a = np.min(a)\n",
        "  a = (a - min_a)/(max_a-min_a)\n",
        "  return(a)\n",
        "def save_model(data, filename):\n",
        "  l = []\n",
        "  n_layers = 4\n",
        "  l.append(n_layers)\n",
        "  l.append(np.array(data))\n",
        "  l.append(renormalize(model_a(data.reshape(1,14,14)).numpy().reshape(12,12)))\n",
        "  l.append(renormalize(model_b(data.reshape(1,14,14)).numpy().reshape(8,8)))\n",
        "  l.append(renormalize(model(data.reshape(1,14,14)).numpy()))\n",
        "  f = open(filename, \"wb\")\n",
        "  pickle.dump(l, f)\n",
        "  f.close()"
      ]
    },
    {
      "cell_type": "markdown",
      "source": [
        "We test our plotting system and investigate the 4 layers of the neural network."
      ],
      "metadata": {
        "id": "uU-f_rkscFgo"
      }
    },
    {
      "cell_type": "code",
      "execution_count": null,
      "metadata": {
        "colab": {
          "base_uri": "https://localhost:8080/",
          "height": 417
        },
        "id": "-epWwi6a2-nW",
        "outputId": "665603d7-4cdf-4b72-c5c7-54eca05aea17"
      },
      "outputs": [
        {
          "data": {
            "image/png": "[encoded data removed]",
            "text/plain": [
              "<Figure size 640x480 with 4 Axes>"
            ]
          },
          "metadata": {},
          "output_type": "display_data"
        }
      ],
      "source": [
        "plot_model(x_test[20])"
      ]
    },
    {
      "cell_type": "markdown",
      "source": [
        "We test our model saving machinism"
      ],
      "metadata": {
        "id": "fze_-Z10cc7U"
      }
    },
    {
      "cell_type": "code",
      "execution_count": null,
      "metadata": {
        "id": "qOwRiEA8C7EH"
      },
      "outputs": [],
      "source": [
        "save_model(x_test[20],\"x-test-20-9.pk\")"
      ]
    },
    {
      "cell_type": "markdown",
      "source": [
        "We install the gradio user interface library in order to detect handdrawn numbers."
      ],
      "metadata": {
        "id": "GGv7FH1Leu2p"
      }
    },
    {
      "cell_type": "code",
      "execution_count": null,
      "metadata": {
        "colab": {
          "base_uri": "https://localhost:8080/"
        },
        "id": "_nLhp-hQIxg4",
        "outputId": "1def40c6-7920-43a7-f1cc-c858236b3c60"
      },
      "outputs": [
        {
          "name": "stdout",
          "output_type": "stream",
          "text": [
            "Collecting gradio\n",
            "  Downloading gradio-3.45.2-py3-none-any.whl (20.2 MB)\n",
            "\u001b[2K     \u001b[90m━━━━━━━━━━━━━━━━━━━━━━━━━━━━━━━━━━━━━━━━\u001b[0m \u001b[32m20.2/20.2 MB\u001b[0m \u001b[31m97.5 MB/s\u001b[0m eta \u001b[36m0:00:00\u001b[0m\n",
            "\u001b[?25hCollecting aiofiles<24.0,>=22.0 (from gradio)\n",
            "  Downloading aiofiles-23.2.1-py3-none-any.whl (15 kB)\n",
            "Requirement already satisfied: altair<6.0,>=4.2.0 in /usr/local/lib/python3.10/dist-packages (from gradio) (4.2.2)\n",
            "Collecting fastapi (from gradio)\n",
            "  Downloading fastapi-0.103.2-py3-none-any.whl (66 kB)\n",
            "\u001b[2K     \u001b[90m━━━━━━━━━━━━━━━━━━━━━━━━━━━━━━━━━━━━━━━━\u001b[0m \u001b[32m66.3/66.3 kB\u001b[0m \u001b[31m9.1 MB/s\u001b[0m eta \u001b[36m0:00:00\u001b[0m\n",
            "\u001b[?25hCollecting ffmpy (from gradio)\n",
            "  Downloading ffmpy-0.3.1.tar.gz (5.5 kB)\n",
            "  Preparing metadata (setup.py) ... \u001b[?25l\u001b[?25hdone\n",
            "Collecting gradio-client==0.5.3 (from gradio)\n",
            "  Downloading gradio_client-0.5.3-py3-none-any.whl (298 kB)\n",
            "\u001b[2K     \u001b[90m━━━━━━━━━━━━━━━━━━━━━━━━━━━━━━━━━━━━━━\u001b[0m \u001b[32m298.4/298.4 kB\u001b[0m \u001b[31m34.0 MB/s\u001b[0m eta \u001b[36m0:00:00\u001b[0m\n",
            "\u001b[?25hCollecting httpx (from gradio)\n",
            "  Downloading httpx-0.25.0-py3-none-any.whl (75 kB)\n",
            "\u001b[2K     \u001b[90m━━━━━━━━━━━━━━━━━━━━━━━━━━━━━━━━━━━━━━━━\u001b[0m \u001b[32m75.7/75.7 kB\u001b[0m \u001b[31m10.1 MB/s\u001b[0m eta \u001b[36m0:00:00\u001b[0m\n",
            "\u001b[?25hCollecting huggingface-hub>=0.14.0 (from gradio)\n",
            "  Downloading huggingface_hub-0.17.3-py3-none-any.whl (295 kB)\n",
            "\u001b[2K     \u001b[90m━━━━━━━━━━━━━━━━━━━━━━━━━━━━━━━━━━━━━━\u001b[0m \u001b[32m295.0/295.0 kB\u001b[0m \u001b[31m32.9 MB/s\u001b[0m eta \u001b[36m0:00:00\u001b[0m\n",
            "\u001b[?25hRequirement already satisfied: importlib-resources<7.0,>=1.3 in /usr/local/lib/python3.10/dist-packages (from gradio) (6.0.1)\n",
            "Requirement already satisfied: jinja2<4.0 in /usr/local/lib/python3.10/dist-packages (from gradio) (3.1.2)\n",
            "Requirement already satisfied: markupsafe~=2.0 in /usr/local/lib/python3.10/dist-packages (from gradio) (2.1.3)\n",
            "Requirement already satisfied: matplotlib~=3.0 in /usr/local/lib/python3.10/dist-packages (from gradio) (3.7.1)\n",
            "Requirement already satisfied: numpy~=1.0 in /usr/local/lib/python3.10/dist-packages (from gradio) (1.23.5)\n",
            "Collecting orjson~=3.0 (from gradio)\n",
            "  Downloading orjson-3.9.7-cp310-cp310-manylinux_2_17_x86_64.manylinux2014_x86_64.whl (138 kB)\n",
            "\u001b[2K     \u001b[90m━━━━━━━━━━━━━━━━━━━━━━━━━━━━━━━━━━━━━━\u001b[0m \u001b[32m138.7/138.7 kB\u001b[0m \u001b[31m19.4 MB/s\u001b[0m eta \u001b[36m0:00:00\u001b[0m\n",
            "\u001b[?25hRequirement already satisfied: packaging in /usr/local/lib/python3.10/dist-packages (from gradio) (23.1)\n",
            "Requirement already satisfied: pandas<3.0,>=1.0 in /usr/local/lib/python3.10/dist-packages (from gradio) (1.5.3)\n",
            "Requirement already satisfied: pillow<11.0,>=8.0 in /usr/local/lib/python3.10/dist-packages (from gradio) (9.4.0)\n",
            "Requirement already satisfied: pydantic!=1.8,!=1.8.1,!=2.0.0,!=2.0.1,<3.0.0,>=1.7.4 in /usr/local/lib/python3.10/dist-packages (from gradio) (1.10.12)\n",
            "Collecting pydub (from gradio)\n",
            "  Downloading pydub-0.25.1-py2.py3-none-any.whl (32 kB)\n",
            "Collecting python-multipart (from gradio)\n",
            "  Downloading python_multipart-0.0.6-py3-none-any.whl (45 kB)\n",
            "\u001b[2K     \u001b[90m━━━━━━━━━━━━━━━━━━━━━━━━━━━━━━━━━━━━━━━━\u001b[0m \u001b[32m45.7/45.7 kB\u001b[0m \u001b[31m6.0 MB/s\u001b[0m eta \u001b[36m0:00:00\u001b[0m\n",
            "\u001b[?25hRequirement already satisfied: pyyaml<7.0,>=5.0 in /usr/local/lib/python3.10/dist-packages (from gradio) (6.0.1)\n",
            "Requirement already satisfied: requests~=2.0 in /usr/local/lib/python3.10/dist-packages (from gradio) (2.31.0)\n",
            "Collecting semantic-version~=2.0 (from gradio)\n",
            "  Downloading semantic_version-2.10.0-py2.py3-none-any.whl (15 kB)\n",
            "Requirement already satisfied: typing-extensions~=4.0 in /usr/local/lib/python3.10/dist-packages (from gradio) (4.5.0)\n",
            "Collecting uvicorn>=0.14.0 (from gradio)\n",
            "  Downloading uvicorn-0.23.2-py3-none-any.whl (59 kB)\n",
            "\u001b[2K     \u001b[90m━━━━━━━━━━━━━━━━━━━━━━━━━━━━━━━━━━━━━━━━\u001b[0m \u001b[32m59.5/59.5 kB\u001b[0m \u001b[31m8.0 MB/s\u001b[0m eta \u001b[36m0:00:00\u001b[0m\n",
            "\u001b[?25hCollecting websockets<12.0,>=10.0 (from gradio)\n",
            "  Downloading websockets-11.0.3-cp310-cp310-manylinux_2_5_x86_64.manylinux1_x86_64.manylinux_2_17_x86_64.manylinux2014_x86_64.whl (129 kB)\n",
            "\u001b[2K     \u001b[90m━━━━━━━━━━━━━━━━━━━━━━━━━━━━━━━━━━━━━━\u001b[0m \u001b[32m129.9/129.9 kB\u001b[0m \u001b[31m16.0 MB/s\u001b[0m eta \u001b[36m0:00:00\u001b[0m\n",
            "\u001b[?25hRequirement already satisfied: fsspec in /usr/local/lib/python3.10/dist-packages (from gradio-client==0.5.3->gradio) (2023.6.0)\n",
            "Requirement already satisfied: entrypoints in /usr/local/lib/python3.10/dist-packages (from altair<6.0,>=4.2.0->gradio) (0.4)\n",
            "Requirement already satisfied: jsonschema>=3.0 in /usr/local/lib/python3.10/dist-packages (from altair<6.0,>=4.2.0->gradio) (4.19.0)\n",
            "Requirement already satisfied: toolz in /usr/local/lib/python3.10/dist-packages (from altair<6.0,>=4.2.0->gradio) (0.12.0)\n",
            "Requirement already satisfied: filelock in /usr/local/lib/python3.10/dist-packages (from huggingface-hub>=0.14.0->gradio) (3.12.2)\n",
            "Requirement already satisfied: tqdm>=4.42.1 in /usr/local/lib/python3.10/dist-packages (from huggingface-hub>=0.14.0->gradio) (4.66.1)\n",
            "Requirement already satisfied: contourpy>=1.0.1 in /usr/local/lib/python3.10/dist-packages (from matplotlib~=3.0->gradio) (1.1.0)\n",
            "Requirement already satisfied: cycler>=0.10 in /usr/local/lib/python3.10/dist-packages (from matplotlib~=3.0->gradio) (0.11.0)\n",
            "Requirement already satisfied: fonttools>=4.22.0 in /usr/local/lib/python3.10/dist-packages (from matplotlib~=3.0->gradio) (4.42.1)\n",
            "Requirement already satisfied: kiwisolver>=1.0.1 in /usr/local/lib/python3.10/dist-packages (from matplotlib~=3.0->gradio) (1.4.5)\n",
            "Requirement already satisfied: pyparsing>=2.3.1 in /usr/local/lib/python3.10/dist-packages (from matplotlib~=3.0->gradio) (3.1.1)\n",
            "Requirement already satisfied: python-dateutil>=2.7 in /usr/local/lib/python3.10/dist-packages (from matplotlib~=3.0->gradio) (2.8.2)\n",
            "Requirement already satisfied: pytz>=2020.1 in /usr/local/lib/python3.10/dist-packages (from pandas<3.0,>=1.0->gradio) (2023.3.post1)\n",
            "Requirement already satisfied: charset-normalizer<4,>=2 in /usr/local/lib/python3.10/dist-packages (from requests~=2.0->gradio) (3.2.0)\n",
            "Requirement already satisfied: idna<4,>=2.5 in /usr/local/lib/python3.10/dist-packages (from requests~=2.0->gradio) (3.4)\n",
            "Requirement already satisfied: urllib3<3,>=1.21.1 in /usr/local/lib/python3.10/dist-packages (from requests~=2.0->gradio) (2.0.4)\n",
            "Requirement already satisfied: certifi>=2017.4.17 in /usr/local/lib/python3.10/dist-packages (from requests~=2.0->gradio) (2023.7.22)\n",
            "Requirement already satisfied: click>=7.0 in /usr/local/lib/python3.10/dist-packages (from uvicorn>=0.14.0->gradio) (8.1.7)\n",
            "Collecting h11>=0.8 (from uvicorn>=0.14.0->gradio)\n",
            "  Downloading h11-0.14.0-py3-none-any.whl (58 kB)\n",
            "\u001b[2K     \u001b[90m━━━━━━━━━━━━━━━━━━━━━━━━━━━━━━━━━━━━━━━━\u001b[0m \u001b[32m58.3/58.3 kB\u001b[0m \u001b[31m7.6 MB/s\u001b[0m eta \u001b[36m0:00:00\u001b[0m\n",
            "\u001b[?25hRequirement already satisfied: anyio<4.0.0,>=3.7.1 in /usr/local/lib/python3.10/dist-packages (from fastapi->gradio) (3.7.1)\n",
            "Collecting starlette<0.28.0,>=0.27.0 (from fastapi->gradio)\n",
            "  Downloading starlette-0.27.0-py3-none-any.whl (66 kB)\n",
            "\u001b[2K     \u001b[90m━━━━━━━━━━━━━━━━━━━━━━━━━━━━━━━━━━━━━━━━\u001b[0m \u001b[32m67.0/67.0 kB\u001b[0m \u001b[31m9.0 MB/s\u001b[0m eta \u001b[36m0:00:00\u001b[0m\n",
            "\u001b[?25hCollecting httpcore<0.19.0,>=0.18.0 (from httpx->gradio)\n",
            "  Downloading httpcore-0.18.0-py3-none-any.whl (76 kB)\n",
            "\u001b[2K     \u001b[90m━━━━━━━━━━━━━━━━━━━━━━━━━━━━━━━━━━━━━━━━\u001b[0m \u001b[32m76.0/76.0 kB\u001b[0m \u001b[31m10.5 MB/s\u001b[0m eta \u001b[36m0:00:00\u001b[0m\n",
            "\u001b[?25hRequirement already satisfied: sniffio in /usr/local/lib/python3.10/dist-packages (from httpx->gradio) (1.3.0)\n",
            "Requirement already satisfied: exceptiongroup in /usr/local/lib/python3.10/dist-packages (from anyio<4.0.0,>=3.7.1->fastapi->gradio) (1.1.3)\n",
            "Requirement already satisfied: attrs>=22.2.0 in /usr/local/lib/python3.10/dist-packages (from jsonschema>=3.0->altair<6.0,>=4.2.0->gradio) (23.1.0)\n",
            "Requirement already satisfied: jsonschema-specifications>=2023.03.6 in /usr/local/lib/python3.10/dist-packages (from jsonschema>=3.0->altair<6.0,>=4.2.0->gradio) (2023.7.1)\n",
            "Requirement already satisfied: referencing>=0.28.4 in /usr/local/lib/python3.10/dist-packages (from jsonschema>=3.0->altair<6.0,>=4.2.0->gradio) (0.30.2)\n",
            "Requirement already satisfied: rpds-py>=0.7.1 in /usr/local/lib/python3.10/dist-packages (from jsonschema>=3.0->altair<6.0,>=4.2.0->gradio) (0.10.2)\n",
            "Requirement already satisfied: six>=1.5 in /usr/local/lib/python3.10/dist-packages (from python-dateutil>=2.7->matplotlib~=3.0->gradio) (1.16.0)\n",
            "Building wheels for collected packages: ffmpy\n",
            "  Building wheel for ffmpy (setup.py) ... \u001b[?25l\u001b[?25hdone\n",
            "  Created wheel for ffmpy: filename=ffmpy-0.3.1-py3-none-any.whl size=5579 sha256=debcab8f3c573aa198eeb23019e5d89b1d2e4762be5285643b746a76a3555feb\n",
            "  Stored in directory: /root/.cache/pip/wheels/01/a6/d1/1c0828c304a4283b2c1639a09ad86f83d7c487ef34c6b4a1bf\n",
            "Successfully built ffmpy\n",
            "Installing collected packages: pydub, ffmpy, websockets, semantic-version, python-multipart, orjson, h11, aiofiles, uvicorn, starlette, huggingface-hub, httpcore, httpx, fastapi, gradio-client, gradio\n",
            "Successfully installed aiofiles-23.2.1 fastapi-0.103.2 ffmpy-0.3.1 gradio-3.45.2 gradio-client-0.5.3 h11-0.14.0 httpcore-0.18.0 httpx-0.25.0 huggingface-hub-0.17.3 orjson-3.9.7 pydub-0.25.1 python-multipart-0.0.6 semantic-version-2.10.0 starlette-0.27.0 uvicorn-0.23.2 websockets-11.0.3\n"
          ]
        }
      ],
      "source": [
        "!pip install gradio"
      ]
    },
    {
      "cell_type": "markdown",
      "source": [
        "We define a function that connects our gradio input to the gradio output, and provides us with the prediction given by the neural network."
      ],
      "metadata": {
        "id": "wLDP-VW0fCd1"
      }
    },
    {
      "cell_type": "code",
      "execution_count": null,
      "metadata": {
        "id": "25S3CeryZ1Rr"
      },
      "outputs": [],
      "source": [
        "def gradio_helper(img):\n",
        "  img = np.array(img)\n",
        "  img = img.reshape(1,28,28,1)\n",
        "  img = img / 255.\n",
        "  img = tf.image.resize(img,(14,14))\n",
        "  x = model(img).numpy().reshape(10)\n",
        "  x_min = min(x)\n",
        "  x_max = max(x)\n",
        "  x = x-x_min\n",
        "  x = x/(x_max-x_min)\n",
        "\n",
        "  labels = {\"zero\":float(x[0]),\n",
        "            \"one\": float(x[1]),\n",
        "            \"two\": float(x[2]),\n",
        "            \"three\":float(x[3]),\n",
        "            \"four\":float(x[4]),\n",
        "            \"five\":float(x[5]),\n",
        "            \"six\":float(x[6]),\n",
        "            \"seven\":float(x[7]),\n",
        "            \"eight\":float(x[8]),\n",
        "            \"nine\":float(x[9])}\n",
        "  return (labels)\n",
        "  #text = \"0: \" +str(x[0])+ \"\\n1: \"+str(x[1])+\"\\n2: \"+str(x[2])+\" 3: \"+str(x[3])+\" 4: \"+str(x[4])+\" 5: \"+str(x[5])+ \" 6: \"+str(x[6])+\" 7: \"+str(x[7])+\" 8: \"+str(x[8])+\" 9: \"+str(x[9])\n",
        "  #return (text)"
      ]
    },
    {
      "cell_type": "markdown",
      "source": [
        "We run the gradio interface and predict our handwritten numbers."
      ],
      "metadata": {
        "id": "LxB2EyhlfSDT"
      }
    },
    {
      "cell_type": "code",
      "execution_count": null,
      "metadata": {
        "colab": {
          "background_save": true,
          "base_uri": "https://localhost:8080/"
        },
        "id": "e200MmBU2aLT",
        "outputId": "bc6be78f-2096-4d98-804c-939fee578ee1"
      },
      "outputs": [
        {
          "name": "stdout",
          "output_type": "stream",
          "text": [
            "Colab notebook detected. This cell will run indefinitely so that you can see errors and logs. To turn off, set debug=False in launch().\n",
            "Running on public URL: https://2f6277788b3236bfdc.gradio.live\n",
            "\n",
            "This share link expires in 72 hours. For free permanent hosting and GPU upgrades, run `gradio deploy` from Terminal to deploy to Spaces (https://huggingface.co/spaces)\n"
          ]
        },
        {
          "data": {
            "text/html": [
              "<div><iframe src=\"https://2f6277788b3236bfdc.gradio.live\" width=\"100%\" height=\"500\" allow=\"autoplay; camera; microphone; clipboard-read; clipboard-write;\" frameborder=\"0\" allowfullscreen></iframe></div>"
            ],
            "text/plain": [
              "<IPython.core.display.HTML object>"
            ]
          },
          "metadata": {},
          "output_type": "display_data"
        },
        {
          "name": "stderr",
          "output_type": "stream",
          "text": [
            "/usr/local/lib/python3.10/dist-packages/gradio/components/button.py:89: UserWarning: Using the update method is deprecated. Simply return a new object instead, e.g. `return gr.Button(...)` instead of `return gr.Button.update(...)`.\n",
            "  warnings.warn(\n",
            "/usr/local/lib/python3.10/dist-packages/gradio/components/button.py:89: UserWarning: Using the update method is deprecated. Simply return a new object instead, e.g. `return gr.Button(...)` instead of `return gr.Button.update(...)`.\n",
            "  warnings.warn(\n"
          ]
        }
      ],
      "source": [
        "import gradio\n",
        "\n",
        "gradio.Interface(gradio_helper, \"sketchpad\", \"label\").launch(share=True,debug=True)"
      ]
    }
  ],
  "metadata": {
    "colab": {
      "provenance": []
    },
    "kernelspec": {
      "display_name": "Python 3",
      "name": "python3"
    },
    "language_info": {
      "name": "python"
    }
  },
  "nbformat": 4,
  "nbformat_minor": 0
}